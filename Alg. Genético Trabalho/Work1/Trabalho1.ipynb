{
 "cells": [
  {
   "cell_type": "code",
   "execution_count": 145,
   "id": "7060e761",
   "metadata": {},
   "outputs": [
    {
     "name": "stdout",
     "output_type": "stream",
     "text": [
      "x1: 0.7211637116118743\n",
      "x2: 0.01814426439609662\n",
      "x3: 0.9596756380543949\n",
      "\n",
      "============\n",
      "x1: 0.7211637116118743\n",
      "x2: 0.03628852879219324\n",
      "x3: 2.879026914163185\n",
      "\n",
      "============\n",
      "func: 78.33978622518968\n"
     ]
    }
   ],
   "source": [
    "import numpy as np\n",
    "\n",
    "#Cada valor na sequência precisa ser convertido para a faixa de x1, x2 e x3, usando a Equação 1\n",
    "def equation(lb, ub, valor):\n",
    "  return lb + ( ub - lb ) * valor\n",
    "\n",
    "def func_objective_min():\n",
    "    #Usando uma distribuição uniforme gere uma população de sequências de números reais variando de 0 a 1.\n",
    "    ru = np.random.uniform(0.0, 1.0, 3)\n",
    "        \n",
    "    #Cada sequência terá três valores que são o x1, x2 e x3 da equação mostrada na Figura 1\n",
    "    x1 = ru[0]\n",
    "    x2 = ru[1]\n",
    "    x3 = ru[2]\n",
    "    \n",
    "    viewX(x1, x2, x3)\n",
    "    \n",
    "    #Cada valor na sequência precisa ser convertido para a faixa de x1, x2 e x3, usando a Equação 1\n",
    "    x1 = equation(0.0, 1.0, x1)\n",
    "    x2 = equation(0.0, 2.0, x2)\n",
    "    x3 = equation(0.0, 3.0, x3)\n",
    "    \n",
    "    viewX(x1, x2, x3)\n",
    "    \n",
    "    f = 10*(x1-1)**2 + 20*(x2-2)**2 + 30*(x3-3)**2\n",
    "   \n",
    "    return f\n",
    "\n",
    "def viewX(x, y, z):\n",
    "    print(\"x1: \"+ str(x))\n",
    "    print(\"x2: \"+ str(y))\n",
    "    print(\"x3: \"+ str(z) +\"\\n\")\n",
    "    print(\"============\")\n",
    "\n",
    "print(\"func: \"+str(func_objective_min()))"
   ]
  },
  {
   "cell_type": "code",
   "execution_count": null,
   "id": "3f8f7383",
   "metadata": {},
   "outputs": [],
   "source": []
  }
 ],
 "metadata": {
  "kernelspec": {
   "display_name": "Python 3 (ipykernel)",
   "language": "python",
   "name": "python3"
  },
  "language_info": {
   "codemirror_mode": {
    "name": "ipython",
    "version": 3
   },
   "file_extension": ".py",
   "mimetype": "text/x-python",
   "name": "python",
   "nbconvert_exporter": "python",
   "pygments_lexer": "ipython3",
   "version": "3.9.7"
  }
 },
 "nbformat": 4,
 "nbformat_minor": 5
}
