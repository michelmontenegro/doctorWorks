{
 "cells": [
  {
   "cell_type": "code",
   "execution_count": 39,
   "id": "7060e761",
   "metadata": {},
   "outputs": [
    {
     "name": "stdout",
     "output_type": "stream",
     "text": [
      "x: 0.9792183725768703\n",
      "y: 0.22533951896200344\n",
      "z: 0.6272887793637106\n",
      "\n",
      "231.88547131554435\n"
     ]
    }
   ],
   "source": [
    "import numpy as np\n",
    "\n",
    "r=np.random.rand(1,3)\n",
    "\n",
    "x = r[0][0]\n",
    "y = r[0][1]\n",
    "z = r[0][2]\n",
    "\n",
    "print(\"x: \"+ str(x))\n",
    "print(\"y: \"+ str(y))\n",
    "print(\"z: \"+ str(z) +\"\\n\")\n",
    "\n",
    "f = 10*(x-1)**2 + 20*(y-2)**2 + 30*(z-3)**2\n",
    "\n",
    "print(f)"
   ]
  },
  {
   "cell_type": "code",
   "execution_count": null,
   "id": "5925f771",
   "metadata": {},
   "outputs": [],
   "source": []
  }
 ],
 "metadata": {
  "kernelspec": {
   "display_name": "Python 3 (ipykernel)",
   "language": "python",
   "name": "python3"
  },
  "language_info": {
   "codemirror_mode": {
    "name": "ipython",
    "version": 3
   },
   "file_extension": ".py",
   "mimetype": "text/x-python",
   "name": "python",
   "nbconvert_exporter": "python",
   "pygments_lexer": "ipython3",
   "version": "3.9.7"
  }
 },
 "nbformat": 4,
 "nbformat_minor": 5
}
