{
 "cells": [
  {
   "cell_type": "code",
   "execution_count": 134,
   "id": "7060e761",
   "metadata": {},
   "outputs": [
    {
     "name": "stdout",
     "output_type": "stream",
     "text": [
      "x1: 0.9289543705993928\n",
      "x2: 0.9865609544171225\n",
      "x3: 0.02779566874416617\n",
      "\n",
      "============\n",
      "x1: 0.9289543705993928\n",
      "x2: 1.973121908834245\n",
      "x3: 0.0833870062324985\n",
      "\n",
      "============\n",
      "func: 255.26386411266637\n"
     ]
    }
   ],
   "source": [
    "import numpy as np\n",
    "\n",
    "#Cada valor na sequência precisa ser convertido para a faixa de x1, x2 e x3, usando a Equação 1\n",
    "def equation(lb, ub, valor):\n",
    "  return lb + ( ub - lb ) * valor\n",
    "\n",
    "def func_objective_min():\n",
    "    #Usando uma distribuição uniforme gere uma população de sequências de números reais variando de 0 a 1.\n",
    "    ru = np.random.uniform(0.0, 1.0, 3)\n",
    "    \n",
    "    #Cada sequência terá três valores que são o x1, x2 e x3 da equação mostrada na Figura 1\n",
    "    x1 = ru[0]\n",
    "    x2 = ru[1]\n",
    "    x3 = ru[2]\n",
    "    \n",
    "    viewX(x1, x2, x3)\n",
    "    \n",
    "    #Cada valor na sequência precisa ser convertido para a faixa de x1, x2 e x3, usando a Equação 1\n",
    "    x1 = equation(0.0, 1.0, x1)\n",
    "    x2 = equation(0.0, 2.0, x2)\n",
    "    x3 = equation(0.0, 3.0, x3)\n",
    "    \n",
    "    viewX(x1, x2, x3)\n",
    "    \n",
    "    func = 10*(x1-1)**2 + 20*(x2-2)**2 + 30*(x3-3)**2\n",
    "    \n",
    "    return func\n",
    "\n",
    "def viewX(x, y, z):\n",
    "    print(\"x1: \"+ str(x))\n",
    "    print(\"x2: \"+ str(y))\n",
    "    print(\"x3: \"+ str(z) +\"\\n\")\n",
    "    print(\"============\")\n",
    "\n",
    "print(\"func: \"+str(func_objective_min()))"
   ]
  },
  {
   "cell_type": "code",
   "execution_count": null,
   "id": "c537f296",
   "metadata": {},
   "outputs": [],
   "source": []
  }
 ],
 "metadata": {
  "kernelspec": {
   "display_name": "Python 3 (ipykernel)",
   "language": "python",
   "name": "python3"
  },
  "language_info": {
   "codemirror_mode": {
    "name": "ipython",
    "version": 3
   },
   "file_extension": ".py",
   "mimetype": "text/x-python",
   "name": "python",
   "nbconvert_exporter": "python",
   "pygments_lexer": "ipython3",
   "version": "3.9.7"
  }
 },
 "nbformat": 4,
 "nbformat_minor": 5
}
